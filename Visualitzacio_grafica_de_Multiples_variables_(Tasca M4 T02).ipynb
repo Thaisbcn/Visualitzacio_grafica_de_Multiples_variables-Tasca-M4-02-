{
 "cells": [
  {
   "cell_type": "code",
   "execution_count": 3,
   "id": "491a6ec7",
   "metadata": {},
   "outputs": [],
   "source": [
    "# importing libraries\n",
    "import numpy as np\n",
    "import pandas as pd\n",
    "import matplotlib.pyplot as plt\n",
    "import seaborn as sns\n",
    "import warnings"
   ]
  },
  {
   "cell_type": "code",
   "execution_count": 4,
   "id": "aea24525",
   "metadata": {},
   "outputs": [
    {
     "name": "stderr",
     "output_type": "stream",
     "text": [
      "/var/folders/b5/qd0s7b0d7cg48d0n9kg8c6lr0000gn/T/ipykernel_35963/2545405554.py:1: ParserWarning: Falling back to the 'python' engine because the 'c' engine does not support regex separators (separators > 1 char and different from '\\s+' are interpreted as regex); you can avoid this warning by specifying engine='python'.\n",
      "  df= pd.read_csv('movies.dat', sep='::', encoding='ISO-8859-1')\n"
     ]
    },
    {
     "ename": "FileNotFoundError",
     "evalue": "[Errno 2] No such file or directory: 'movies.dat'",
     "output_type": "error",
     "traceback": [
      "\u001b[0;31m---------------------------------------------------------------------------\u001b[0m",
      "\u001b[0;31mFileNotFoundError\u001b[0m                         Traceback (most recent call last)",
      "Cell \u001b[0;32mIn[4], line 1\u001b[0m\n\u001b[0;32m----> 1\u001b[0m df\u001b[38;5;241m=\u001b[39m \u001b[43mpd\u001b[49m\u001b[38;5;241;43m.\u001b[39;49m\u001b[43mread_csv\u001b[49m\u001b[43m(\u001b[49m\u001b[38;5;124;43m'\u001b[39;49m\u001b[38;5;124;43mmovies.dat\u001b[39;49m\u001b[38;5;124;43m'\u001b[39;49m\u001b[43m,\u001b[49m\u001b[43m \u001b[49m\u001b[43msep\u001b[49m\u001b[38;5;241;43m=\u001b[39;49m\u001b[38;5;124;43m'\u001b[39;49m\u001b[38;5;124;43m::\u001b[39;49m\u001b[38;5;124;43m'\u001b[39;49m\u001b[43m,\u001b[49m\u001b[43m \u001b[49m\u001b[43mencoding\u001b[49m\u001b[38;5;241;43m=\u001b[39;49m\u001b[38;5;124;43m'\u001b[39;49m\u001b[38;5;124;43mISO-8859-1\u001b[39;49m\u001b[38;5;124;43m'\u001b[39;49m\u001b[43m)\u001b[49m\n\u001b[1;32m      2\u001b[0m df\n",
      "File \u001b[0;32m~/anaconda3/lib/python3.10/site-packages/pandas/util/_decorators.py:211\u001b[0m, in \u001b[0;36mdeprecate_kwarg.<locals>._deprecate_kwarg.<locals>.wrapper\u001b[0;34m(*args, **kwargs)\u001b[0m\n\u001b[1;32m    209\u001b[0m     \u001b[38;5;28;01melse\u001b[39;00m:\n\u001b[1;32m    210\u001b[0m         kwargs[new_arg_name] \u001b[38;5;241m=\u001b[39m new_arg_value\n\u001b[0;32m--> 211\u001b[0m \u001b[38;5;28;01mreturn\u001b[39;00m \u001b[43mfunc\u001b[49m\u001b[43m(\u001b[49m\u001b[38;5;241;43m*\u001b[39;49m\u001b[43margs\u001b[49m\u001b[43m,\u001b[49m\u001b[43m \u001b[49m\u001b[38;5;241;43m*\u001b[39;49m\u001b[38;5;241;43m*\u001b[39;49m\u001b[43mkwargs\u001b[49m\u001b[43m)\u001b[49m\n",
      "File \u001b[0;32m~/anaconda3/lib/python3.10/site-packages/pandas/util/_decorators.py:331\u001b[0m, in \u001b[0;36mdeprecate_nonkeyword_arguments.<locals>.decorate.<locals>.wrapper\u001b[0;34m(*args, **kwargs)\u001b[0m\n\u001b[1;32m    325\u001b[0m \u001b[38;5;28;01mif\u001b[39;00m \u001b[38;5;28mlen\u001b[39m(args) \u001b[38;5;241m>\u001b[39m num_allow_args:\n\u001b[1;32m    326\u001b[0m     warnings\u001b[38;5;241m.\u001b[39mwarn(\n\u001b[1;32m    327\u001b[0m         msg\u001b[38;5;241m.\u001b[39mformat(arguments\u001b[38;5;241m=\u001b[39m_format_argument_list(allow_args)),\n\u001b[1;32m    328\u001b[0m         \u001b[38;5;167;01mFutureWarning\u001b[39;00m,\n\u001b[1;32m    329\u001b[0m         stacklevel\u001b[38;5;241m=\u001b[39mfind_stack_level(),\n\u001b[1;32m    330\u001b[0m     )\n\u001b[0;32m--> 331\u001b[0m \u001b[38;5;28;01mreturn\u001b[39;00m \u001b[43mfunc\u001b[49m\u001b[43m(\u001b[49m\u001b[38;5;241;43m*\u001b[39;49m\u001b[43margs\u001b[49m\u001b[43m,\u001b[49m\u001b[43m \u001b[49m\u001b[38;5;241;43m*\u001b[39;49m\u001b[38;5;241;43m*\u001b[39;49m\u001b[43mkwargs\u001b[49m\u001b[43m)\u001b[49m\n",
      "File \u001b[0;32m~/anaconda3/lib/python3.10/site-packages/pandas/io/parsers/readers.py:950\u001b[0m, in \u001b[0;36mread_csv\u001b[0;34m(filepath_or_buffer, sep, delimiter, header, names, index_col, usecols, squeeze, prefix, mangle_dupe_cols, dtype, engine, converters, true_values, false_values, skipinitialspace, skiprows, skipfooter, nrows, na_values, keep_default_na, na_filter, verbose, skip_blank_lines, parse_dates, infer_datetime_format, keep_date_col, date_parser, dayfirst, cache_dates, iterator, chunksize, compression, thousands, decimal, lineterminator, quotechar, quoting, doublequote, escapechar, comment, encoding, encoding_errors, dialect, error_bad_lines, warn_bad_lines, on_bad_lines, delim_whitespace, low_memory, memory_map, float_precision, storage_options)\u001b[0m\n\u001b[1;32m    935\u001b[0m kwds_defaults \u001b[38;5;241m=\u001b[39m _refine_defaults_read(\n\u001b[1;32m    936\u001b[0m     dialect,\n\u001b[1;32m    937\u001b[0m     delimiter,\n\u001b[0;32m   (...)\u001b[0m\n\u001b[1;32m    946\u001b[0m     defaults\u001b[38;5;241m=\u001b[39m{\u001b[38;5;124m\"\u001b[39m\u001b[38;5;124mdelimiter\u001b[39m\u001b[38;5;124m\"\u001b[39m: \u001b[38;5;124m\"\u001b[39m\u001b[38;5;124m,\u001b[39m\u001b[38;5;124m\"\u001b[39m},\n\u001b[1;32m    947\u001b[0m )\n\u001b[1;32m    948\u001b[0m kwds\u001b[38;5;241m.\u001b[39mupdate(kwds_defaults)\n\u001b[0;32m--> 950\u001b[0m \u001b[38;5;28;01mreturn\u001b[39;00m \u001b[43m_read\u001b[49m\u001b[43m(\u001b[49m\u001b[43mfilepath_or_buffer\u001b[49m\u001b[43m,\u001b[49m\u001b[43m \u001b[49m\u001b[43mkwds\u001b[49m\u001b[43m)\u001b[49m\n",
      "File \u001b[0;32m~/anaconda3/lib/python3.10/site-packages/pandas/io/parsers/readers.py:605\u001b[0m, in \u001b[0;36m_read\u001b[0;34m(filepath_or_buffer, kwds)\u001b[0m\n\u001b[1;32m    602\u001b[0m _validate_names(kwds\u001b[38;5;241m.\u001b[39mget(\u001b[38;5;124m\"\u001b[39m\u001b[38;5;124mnames\u001b[39m\u001b[38;5;124m\"\u001b[39m, \u001b[38;5;28;01mNone\u001b[39;00m))\n\u001b[1;32m    604\u001b[0m \u001b[38;5;66;03m# Create the parser.\u001b[39;00m\n\u001b[0;32m--> 605\u001b[0m parser \u001b[38;5;241m=\u001b[39m \u001b[43mTextFileReader\u001b[49m\u001b[43m(\u001b[49m\u001b[43mfilepath_or_buffer\u001b[49m\u001b[43m,\u001b[49m\u001b[43m \u001b[49m\u001b[38;5;241;43m*\u001b[39;49m\u001b[38;5;241;43m*\u001b[39;49m\u001b[43mkwds\u001b[49m\u001b[43m)\u001b[49m\n\u001b[1;32m    607\u001b[0m \u001b[38;5;28;01mif\u001b[39;00m chunksize \u001b[38;5;129;01mor\u001b[39;00m iterator:\n\u001b[1;32m    608\u001b[0m     \u001b[38;5;28;01mreturn\u001b[39;00m parser\n",
      "File \u001b[0;32m~/anaconda3/lib/python3.10/site-packages/pandas/io/parsers/readers.py:1442\u001b[0m, in \u001b[0;36mTextFileReader.__init__\u001b[0;34m(self, f, engine, **kwds)\u001b[0m\n\u001b[1;32m   1439\u001b[0m     \u001b[38;5;28mself\u001b[39m\u001b[38;5;241m.\u001b[39moptions[\u001b[38;5;124m\"\u001b[39m\u001b[38;5;124mhas_index_names\u001b[39m\u001b[38;5;124m\"\u001b[39m] \u001b[38;5;241m=\u001b[39m kwds[\u001b[38;5;124m\"\u001b[39m\u001b[38;5;124mhas_index_names\u001b[39m\u001b[38;5;124m\"\u001b[39m]\n\u001b[1;32m   1441\u001b[0m \u001b[38;5;28mself\u001b[39m\u001b[38;5;241m.\u001b[39mhandles: IOHandles \u001b[38;5;241m|\u001b[39m \u001b[38;5;28;01mNone\u001b[39;00m \u001b[38;5;241m=\u001b[39m \u001b[38;5;28;01mNone\u001b[39;00m\n\u001b[0;32m-> 1442\u001b[0m \u001b[38;5;28mself\u001b[39m\u001b[38;5;241m.\u001b[39m_engine \u001b[38;5;241m=\u001b[39m \u001b[38;5;28;43mself\u001b[39;49m\u001b[38;5;241;43m.\u001b[39;49m\u001b[43m_make_engine\u001b[49m\u001b[43m(\u001b[49m\u001b[43mf\u001b[49m\u001b[43m,\u001b[49m\u001b[43m \u001b[49m\u001b[38;5;28;43mself\u001b[39;49m\u001b[38;5;241;43m.\u001b[39;49m\u001b[43mengine\u001b[49m\u001b[43m)\u001b[49m\n",
      "File \u001b[0;32m~/anaconda3/lib/python3.10/site-packages/pandas/io/parsers/readers.py:1735\u001b[0m, in \u001b[0;36mTextFileReader._make_engine\u001b[0;34m(self, f, engine)\u001b[0m\n\u001b[1;32m   1733\u001b[0m     \u001b[38;5;28;01mif\u001b[39;00m \u001b[38;5;124m\"\u001b[39m\u001b[38;5;124mb\u001b[39m\u001b[38;5;124m\"\u001b[39m \u001b[38;5;129;01mnot\u001b[39;00m \u001b[38;5;129;01min\u001b[39;00m mode:\n\u001b[1;32m   1734\u001b[0m         mode \u001b[38;5;241m+\u001b[39m\u001b[38;5;241m=\u001b[39m \u001b[38;5;124m\"\u001b[39m\u001b[38;5;124mb\u001b[39m\u001b[38;5;124m\"\u001b[39m\n\u001b[0;32m-> 1735\u001b[0m \u001b[38;5;28mself\u001b[39m\u001b[38;5;241m.\u001b[39mhandles \u001b[38;5;241m=\u001b[39m \u001b[43mget_handle\u001b[49m\u001b[43m(\u001b[49m\n\u001b[1;32m   1736\u001b[0m \u001b[43m    \u001b[49m\u001b[43mf\u001b[49m\u001b[43m,\u001b[49m\n\u001b[1;32m   1737\u001b[0m \u001b[43m    \u001b[49m\u001b[43mmode\u001b[49m\u001b[43m,\u001b[49m\n\u001b[1;32m   1738\u001b[0m \u001b[43m    \u001b[49m\u001b[43mencoding\u001b[49m\u001b[38;5;241;43m=\u001b[39;49m\u001b[38;5;28;43mself\u001b[39;49m\u001b[38;5;241;43m.\u001b[39;49m\u001b[43moptions\u001b[49m\u001b[38;5;241;43m.\u001b[39;49m\u001b[43mget\u001b[49m\u001b[43m(\u001b[49m\u001b[38;5;124;43m\"\u001b[39;49m\u001b[38;5;124;43mencoding\u001b[39;49m\u001b[38;5;124;43m\"\u001b[39;49m\u001b[43m,\u001b[49m\u001b[43m \u001b[49m\u001b[38;5;28;43;01mNone\u001b[39;49;00m\u001b[43m)\u001b[49m\u001b[43m,\u001b[49m\n\u001b[1;32m   1739\u001b[0m \u001b[43m    \u001b[49m\u001b[43mcompression\u001b[49m\u001b[38;5;241;43m=\u001b[39;49m\u001b[38;5;28;43mself\u001b[39;49m\u001b[38;5;241;43m.\u001b[39;49m\u001b[43moptions\u001b[49m\u001b[38;5;241;43m.\u001b[39;49m\u001b[43mget\u001b[49m\u001b[43m(\u001b[49m\u001b[38;5;124;43m\"\u001b[39;49m\u001b[38;5;124;43mcompression\u001b[39;49m\u001b[38;5;124;43m\"\u001b[39;49m\u001b[43m,\u001b[49m\u001b[43m \u001b[49m\u001b[38;5;28;43;01mNone\u001b[39;49;00m\u001b[43m)\u001b[49m\u001b[43m,\u001b[49m\n\u001b[1;32m   1740\u001b[0m \u001b[43m    \u001b[49m\u001b[43mmemory_map\u001b[49m\u001b[38;5;241;43m=\u001b[39;49m\u001b[38;5;28;43mself\u001b[39;49m\u001b[38;5;241;43m.\u001b[39;49m\u001b[43moptions\u001b[49m\u001b[38;5;241;43m.\u001b[39;49m\u001b[43mget\u001b[49m\u001b[43m(\u001b[49m\u001b[38;5;124;43m\"\u001b[39;49m\u001b[38;5;124;43mmemory_map\u001b[39;49m\u001b[38;5;124;43m\"\u001b[39;49m\u001b[43m,\u001b[49m\u001b[43m \u001b[49m\u001b[38;5;28;43;01mFalse\u001b[39;49;00m\u001b[43m)\u001b[49m\u001b[43m,\u001b[49m\n\u001b[1;32m   1741\u001b[0m \u001b[43m    \u001b[49m\u001b[43mis_text\u001b[49m\u001b[38;5;241;43m=\u001b[39;49m\u001b[43mis_text\u001b[49m\u001b[43m,\u001b[49m\n\u001b[1;32m   1742\u001b[0m \u001b[43m    \u001b[49m\u001b[43merrors\u001b[49m\u001b[38;5;241;43m=\u001b[39;49m\u001b[38;5;28;43mself\u001b[39;49m\u001b[38;5;241;43m.\u001b[39;49m\u001b[43moptions\u001b[49m\u001b[38;5;241;43m.\u001b[39;49m\u001b[43mget\u001b[49m\u001b[43m(\u001b[49m\u001b[38;5;124;43m\"\u001b[39;49m\u001b[38;5;124;43mencoding_errors\u001b[39;49m\u001b[38;5;124;43m\"\u001b[39;49m\u001b[43m,\u001b[49m\u001b[43m \u001b[49m\u001b[38;5;124;43m\"\u001b[39;49m\u001b[38;5;124;43mstrict\u001b[39;49m\u001b[38;5;124;43m\"\u001b[39;49m\u001b[43m)\u001b[49m\u001b[43m,\u001b[49m\n\u001b[1;32m   1743\u001b[0m \u001b[43m    \u001b[49m\u001b[43mstorage_options\u001b[49m\u001b[38;5;241;43m=\u001b[39;49m\u001b[38;5;28;43mself\u001b[39;49m\u001b[38;5;241;43m.\u001b[39;49m\u001b[43moptions\u001b[49m\u001b[38;5;241;43m.\u001b[39;49m\u001b[43mget\u001b[49m\u001b[43m(\u001b[49m\u001b[38;5;124;43m\"\u001b[39;49m\u001b[38;5;124;43mstorage_options\u001b[39;49m\u001b[38;5;124;43m\"\u001b[39;49m\u001b[43m,\u001b[49m\u001b[43m \u001b[49m\u001b[38;5;28;43;01mNone\u001b[39;49;00m\u001b[43m)\u001b[49m\u001b[43m,\u001b[49m\n\u001b[1;32m   1744\u001b[0m \u001b[43m\u001b[49m\u001b[43m)\u001b[49m\n\u001b[1;32m   1745\u001b[0m \u001b[38;5;28;01massert\u001b[39;00m \u001b[38;5;28mself\u001b[39m\u001b[38;5;241m.\u001b[39mhandles \u001b[38;5;129;01mis\u001b[39;00m \u001b[38;5;129;01mnot\u001b[39;00m \u001b[38;5;28;01mNone\u001b[39;00m\n\u001b[1;32m   1746\u001b[0m f \u001b[38;5;241m=\u001b[39m \u001b[38;5;28mself\u001b[39m\u001b[38;5;241m.\u001b[39mhandles\u001b[38;5;241m.\u001b[39mhandle\n",
      "File \u001b[0;32m~/anaconda3/lib/python3.10/site-packages/pandas/io/common.py:856\u001b[0m, in \u001b[0;36mget_handle\u001b[0;34m(path_or_buf, mode, encoding, compression, memory_map, is_text, errors, storage_options)\u001b[0m\n\u001b[1;32m    851\u001b[0m \u001b[38;5;28;01melif\u001b[39;00m \u001b[38;5;28misinstance\u001b[39m(handle, \u001b[38;5;28mstr\u001b[39m):\n\u001b[1;32m    852\u001b[0m     \u001b[38;5;66;03m# Check whether the filename is to be opened in binary mode.\u001b[39;00m\n\u001b[1;32m    853\u001b[0m     \u001b[38;5;66;03m# Binary mode does not support 'encoding' and 'newline'.\u001b[39;00m\n\u001b[1;32m    854\u001b[0m     \u001b[38;5;28;01mif\u001b[39;00m ioargs\u001b[38;5;241m.\u001b[39mencoding \u001b[38;5;129;01mand\u001b[39;00m \u001b[38;5;124m\"\u001b[39m\u001b[38;5;124mb\u001b[39m\u001b[38;5;124m\"\u001b[39m \u001b[38;5;129;01mnot\u001b[39;00m \u001b[38;5;129;01min\u001b[39;00m ioargs\u001b[38;5;241m.\u001b[39mmode:\n\u001b[1;32m    855\u001b[0m         \u001b[38;5;66;03m# Encoding\u001b[39;00m\n\u001b[0;32m--> 856\u001b[0m         handle \u001b[38;5;241m=\u001b[39m \u001b[38;5;28;43mopen\u001b[39;49m\u001b[43m(\u001b[49m\n\u001b[1;32m    857\u001b[0m \u001b[43m            \u001b[49m\u001b[43mhandle\u001b[49m\u001b[43m,\u001b[49m\n\u001b[1;32m    858\u001b[0m \u001b[43m            \u001b[49m\u001b[43mioargs\u001b[49m\u001b[38;5;241;43m.\u001b[39;49m\u001b[43mmode\u001b[49m\u001b[43m,\u001b[49m\n\u001b[1;32m    859\u001b[0m \u001b[43m            \u001b[49m\u001b[43mencoding\u001b[49m\u001b[38;5;241;43m=\u001b[39;49m\u001b[43mioargs\u001b[49m\u001b[38;5;241;43m.\u001b[39;49m\u001b[43mencoding\u001b[49m\u001b[43m,\u001b[49m\n\u001b[1;32m    860\u001b[0m \u001b[43m            \u001b[49m\u001b[43merrors\u001b[49m\u001b[38;5;241;43m=\u001b[39;49m\u001b[43merrors\u001b[49m\u001b[43m,\u001b[49m\n\u001b[1;32m    861\u001b[0m \u001b[43m            \u001b[49m\u001b[43mnewline\u001b[49m\u001b[38;5;241;43m=\u001b[39;49m\u001b[38;5;124;43m\"\u001b[39;49m\u001b[38;5;124;43m\"\u001b[39;49m\u001b[43m,\u001b[49m\n\u001b[1;32m    862\u001b[0m \u001b[43m        \u001b[49m\u001b[43m)\u001b[49m\n\u001b[1;32m    863\u001b[0m     \u001b[38;5;28;01melse\u001b[39;00m:\n\u001b[1;32m    864\u001b[0m         \u001b[38;5;66;03m# Binary mode\u001b[39;00m\n\u001b[1;32m    865\u001b[0m         handle \u001b[38;5;241m=\u001b[39m \u001b[38;5;28mopen\u001b[39m(handle, ioargs\u001b[38;5;241m.\u001b[39mmode)\n",
      "\u001b[0;31mFileNotFoundError\u001b[0m: [Errno 2] No such file or directory: 'movies.dat'"
     ]
    }
   ],
   "source": [
    "df= pd.read_csv('movies.dat', sep='::', encoding='ISO-8859-1')\n",
    "df"
   ]
  },
  {
   "cell_type": "code",
   "execution_count": 633,
   "id": "3646cff4",
   "metadata": {},
   "outputs": [
    {
     "data": {
      "text/plain": [
       "Index(['1', 'Toy Story (1995)', 'Animation|Children's|Comedy'], dtype='object')"
      ]
     },
     "execution_count": 633,
     "metadata": {},
     "output_type": "execute_result"
    }
   ],
   "source": [
    "df.columns # veo los nombres de las columnas y evidentemente, es lo que parece. "
   ]
  },
  {
   "cell_type": "markdown",
   "id": "4095c9ae",
   "metadata": {},
   "source": [
    "- Veo que la gráfica está desplazada, usa la primera fila como nombres de columna. \n",
    "\n",
    "Entonces, o la importamos diciendo que no hay encabezado a fin de dejar el espacio para posterior nombramiento de columnas,\n"
   ]
  },
  {
   "cell_type": "code",
   "execution_count": 634,
   "id": "61a707a1",
   "metadata": {},
   "outputs": [
    {
     "data": {
      "text/html": [
       "<div>\n",
       "<style scoped>\n",
       "    .dataframe tbody tr th:only-of-type {\n",
       "        vertical-align: middle;\n",
       "    }\n",
       "\n",
       "    .dataframe tbody tr th {\n",
       "        vertical-align: top;\n",
       "    }\n",
       "\n",
       "    .dataframe thead th {\n",
       "        text-align: right;\n",
       "    }\n",
       "</style>\n",
       "<table border=\"1\" class=\"dataframe\">\n",
       "  <thead>\n",
       "    <tr style=\"text-align: right;\">\n",
       "      <th></th>\n",
       "      <th>0</th>\n",
       "      <th>1</th>\n",
       "      <th>2</th>\n",
       "    </tr>\n",
       "  </thead>\n",
       "  <tbody>\n",
       "    <tr>\n",
       "      <th>0</th>\n",
       "      <td>1</td>\n",
       "      <td>Toy Story (1995)</td>\n",
       "      <td>Animation|Children's|Comedy</td>\n",
       "    </tr>\n",
       "    <tr>\n",
       "      <th>1</th>\n",
       "      <td>2</td>\n",
       "      <td>Jumanji (1995)</td>\n",
       "      <td>Adventure|Children's|Fantasy</td>\n",
       "    </tr>\n",
       "    <tr>\n",
       "      <th>2</th>\n",
       "      <td>3</td>\n",
       "      <td>Grumpier Old Men (1995)</td>\n",
       "      <td>Comedy|Romance</td>\n",
       "    </tr>\n",
       "    <tr>\n",
       "      <th>3</th>\n",
       "      <td>4</td>\n",
       "      <td>Waiting to Exhale (1995)</td>\n",
       "      <td>Comedy|Drama</td>\n",
       "    </tr>\n",
       "    <tr>\n",
       "      <th>4</th>\n",
       "      <td>5</td>\n",
       "      <td>Father of the Bride Part II (1995)</td>\n",
       "      <td>Comedy</td>\n",
       "    </tr>\n",
       "    <tr>\n",
       "      <th>...</th>\n",
       "      <td>...</td>\n",
       "      <td>...</td>\n",
       "      <td>...</td>\n",
       "    </tr>\n",
       "    <tr>\n",
       "      <th>3878</th>\n",
       "      <td>3948</td>\n",
       "      <td>Meet the Parents (2000)</td>\n",
       "      <td>Comedy</td>\n",
       "    </tr>\n",
       "    <tr>\n",
       "      <th>3879</th>\n",
       "      <td>3949</td>\n",
       "      <td>Requiem for a Dream (2000)</td>\n",
       "      <td>Drama</td>\n",
       "    </tr>\n",
       "    <tr>\n",
       "      <th>3880</th>\n",
       "      <td>3950</td>\n",
       "      <td>Tigerland (2000)</td>\n",
       "      <td>Drama</td>\n",
       "    </tr>\n",
       "    <tr>\n",
       "      <th>3881</th>\n",
       "      <td>3951</td>\n",
       "      <td>Two Family House (2000)</td>\n",
       "      <td>Drama</td>\n",
       "    </tr>\n",
       "    <tr>\n",
       "      <th>3882</th>\n",
       "      <td>3952</td>\n",
       "      <td>Contender, The (2000)</td>\n",
       "      <td>Drama|Thriller</td>\n",
       "    </tr>\n",
       "  </tbody>\n",
       "</table>\n",
       "<p>3883 rows × 3 columns</p>\n",
       "</div>"
      ],
      "text/plain": [
       "         0                                   1                             2\n",
       "0        1                    Toy Story (1995)   Animation|Children's|Comedy\n",
       "1        2                      Jumanji (1995)  Adventure|Children's|Fantasy\n",
       "2        3             Grumpier Old Men (1995)                Comedy|Romance\n",
       "3        4            Waiting to Exhale (1995)                  Comedy|Drama\n",
       "4        5  Father of the Bride Part II (1995)                        Comedy\n",
       "...    ...                                 ...                           ...\n",
       "3878  3948             Meet the Parents (2000)                        Comedy\n",
       "3879  3949          Requiem for a Dream (2000)                         Drama\n",
       "3880  3950                    Tigerland (2000)                         Drama\n",
       "3881  3951             Two Family House (2000)                         Drama\n",
       "3882  3952               Contender, The (2000)                Drama|Thriller\n",
       "\n",
       "[3883 rows x 3 columns]"
      ]
     },
     "execution_count": 634,
     "metadata": {},
     "output_type": "execute_result"
    }
   ],
   "source": [
    "df = pd.read_csv('movies.dat', sep='::', encoding='ISO-8859-1', header=None)  \n",
    "df"
   ]
  },
  {
   "cell_type": "markdown",
   "id": "057c99eb",
   "metadata": {},
   "source": [
    "o bien añado los nombres de las columnas al importar (Opción que parece más fácil)."
   ]
  },
  {
   "cell_type": "code",
   "execution_count": 635,
   "id": "c25d340d",
   "metadata": {},
   "outputs": [
    {
     "data": {
      "text/html": [
       "<div>\n",
       "<style scoped>\n",
       "    .dataframe tbody tr th:only-of-type {\n",
       "        vertical-align: middle;\n",
       "    }\n",
       "\n",
       "    .dataframe tbody tr th {\n",
       "        vertical-align: top;\n",
       "    }\n",
       "\n",
       "    .dataframe thead th {\n",
       "        text-align: right;\n",
       "    }\n",
       "</style>\n",
       "<table border=\"1\" class=\"dataframe\">\n",
       "  <thead>\n",
       "    <tr style=\"text-align: right;\">\n",
       "      <th></th>\n",
       "      <th>id</th>\n",
       "      <th>movieN+Y</th>\n",
       "      <th>Genre</th>\n",
       "    </tr>\n",
       "  </thead>\n",
       "  <tbody>\n",
       "    <tr>\n",
       "      <th>0</th>\n",
       "      <td>1</td>\n",
       "      <td>Toy Story (1995)</td>\n",
       "      <td>Animation|Children's|Comedy</td>\n",
       "    </tr>\n",
       "    <tr>\n",
       "      <th>1</th>\n",
       "      <td>2</td>\n",
       "      <td>Jumanji (1995)</td>\n",
       "      <td>Adventure|Children's|Fantasy</td>\n",
       "    </tr>\n",
       "    <tr>\n",
       "      <th>2</th>\n",
       "      <td>3</td>\n",
       "      <td>Grumpier Old Men (1995)</td>\n",
       "      <td>Comedy|Romance</td>\n",
       "    </tr>\n",
       "    <tr>\n",
       "      <th>3</th>\n",
       "      <td>4</td>\n",
       "      <td>Waiting to Exhale (1995)</td>\n",
       "      <td>Comedy|Drama</td>\n",
       "    </tr>\n",
       "    <tr>\n",
       "      <th>4</th>\n",
       "      <td>5</td>\n",
       "      <td>Father of the Bride Part II (1995)</td>\n",
       "      <td>Comedy</td>\n",
       "    </tr>\n",
       "    <tr>\n",
       "      <th>...</th>\n",
       "      <td>...</td>\n",
       "      <td>...</td>\n",
       "      <td>...</td>\n",
       "    </tr>\n",
       "    <tr>\n",
       "      <th>3878</th>\n",
       "      <td>3948</td>\n",
       "      <td>Meet the Parents (2000)</td>\n",
       "      <td>Comedy</td>\n",
       "    </tr>\n",
       "    <tr>\n",
       "      <th>3879</th>\n",
       "      <td>3949</td>\n",
       "      <td>Requiem for a Dream (2000)</td>\n",
       "      <td>Drama</td>\n",
       "    </tr>\n",
       "    <tr>\n",
       "      <th>3880</th>\n",
       "      <td>3950</td>\n",
       "      <td>Tigerland (2000)</td>\n",
       "      <td>Drama</td>\n",
       "    </tr>\n",
       "    <tr>\n",
       "      <th>3881</th>\n",
       "      <td>3951</td>\n",
       "      <td>Two Family House (2000)</td>\n",
       "      <td>Drama</td>\n",
       "    </tr>\n",
       "    <tr>\n",
       "      <th>3882</th>\n",
       "      <td>3952</td>\n",
       "      <td>Contender, The (2000)</td>\n",
       "      <td>Drama|Thriller</td>\n",
       "    </tr>\n",
       "  </tbody>\n",
       "</table>\n",
       "<p>3883 rows × 3 columns</p>\n",
       "</div>"
      ],
      "text/plain": [
       "        id                            movieN+Y                         Genre\n",
       "0        1                    Toy Story (1995)   Animation|Children's|Comedy\n",
       "1        2                      Jumanji (1995)  Adventure|Children's|Fantasy\n",
       "2        3             Grumpier Old Men (1995)                Comedy|Romance\n",
       "3        4            Waiting to Exhale (1995)                  Comedy|Drama\n",
       "4        5  Father of the Bride Part II (1995)                        Comedy\n",
       "...    ...                                 ...                           ...\n",
       "3878  3948             Meet the Parents (2000)                        Comedy\n",
       "3879  3949          Requiem for a Dream (2000)                         Drama\n",
       "3880  3950                    Tigerland (2000)                         Drama\n",
       "3881  3951             Two Family House (2000)                         Drama\n",
       "3882  3952               Contender, The (2000)                Drama|Thriller\n",
       "\n",
       "[3883 rows x 3 columns]"
      ]
     },
     "execution_count": 635,
     "metadata": {},
     "output_type": "execute_result"
    }
   ],
   "source": [
    "df= pd.read_csv('movies.dat', sep='::', encoding='ISO-8859-1',names= ['id','movieN+Y', 'Genre'])\n",
    "df"
   ]
  },
  {
   "cell_type": "code",
   "execution_count": 636,
   "id": "b466016a",
   "metadata": {},
   "outputs": [
    {
     "data": {
      "text/plain": [
       "Index(['id', 'movieN+Y', 'Genre'], dtype='object')"
      ]
     },
     "execution_count": 636,
     "metadata": {},
     "output_type": "execute_result"
    }
   ],
   "source": [
    "df.columns"
   ]
  },
  {
   "cell_type": "markdown",
   "id": "99351eb8",
   "metadata": {},
   "source": [
    "Pero claro, hasta que no ves el DF no sabes con lo que te vas a encontrar. "
   ]
  },
  {
   "cell_type": "markdown",
   "id": "8bb05284",
   "metadata": {},
   "source": [
    "- El segundo tema es el índice, que no coincide con el importado. Puesto que no coincide con el número de filas.\n",
    "\n",
    "Lo que me hace pensar, que no es una buena idea renombrarlo con (df.reset_index(drop=True) porque me da miedo que este número sea el 'ID'de la película y esté vinculado con otras tablas."
   ]
  },
  {
   "cell_type": "markdown",
   "id": "43bd44be",
   "metadata": {},
   "source": [
    "- Ahora quiero dividir la columna de movieN+Date por dos columnas: Movie (string) y date/año (int) a fin de poder clasificar por años si interesa. Y saber cuantos años hay catalogados."
   ]
  },
  {
   "cell_type": "code",
   "execution_count": 637,
   "id": "5406401a",
   "metadata": {},
   "outputs": [
    {
     "data": {
      "text/html": [
       "<div>\n",
       "<style scoped>\n",
       "    .dataframe tbody tr th:only-of-type {\n",
       "        vertical-align: middle;\n",
       "    }\n",
       "\n",
       "    .dataframe tbody tr th {\n",
       "        vertical-align: top;\n",
       "    }\n",
       "\n",
       "    .dataframe thead th {\n",
       "        text-align: right;\n",
       "    }\n",
       "</style>\n",
       "<table border=\"1\" class=\"dataframe\">\n",
       "  <thead>\n",
       "    <tr style=\"text-align: right;\">\n",
       "      <th></th>\n",
       "      <th>id</th>\n",
       "      <th>movieN+Y</th>\n",
       "      <th>Genre</th>\n",
       "    </tr>\n",
       "  </thead>\n",
       "  <tbody>\n",
       "    <tr>\n",
       "      <th>0</th>\n",
       "      <td>1</td>\n",
       "      <td>Toy Story (1995)</td>\n",
       "      <td>Animation|Children's|Comedy</td>\n",
       "    </tr>\n",
       "    <tr>\n",
       "      <th>1</th>\n",
       "      <td>2</td>\n",
       "      <td>Jumanji (1995)</td>\n",
       "      <td>Adventure|Children's|Fantasy</td>\n",
       "    </tr>\n",
       "    <tr>\n",
       "      <th>2</th>\n",
       "      <td>3</td>\n",
       "      <td>Grumpier Old Men (1995)</td>\n",
       "      <td>Comedy|Romance</td>\n",
       "    </tr>\n",
       "    <tr>\n",
       "      <th>3</th>\n",
       "      <td>4</td>\n",
       "      <td>Waiting to Exhale (1995)</td>\n",
       "      <td>Comedy|Drama</td>\n",
       "    </tr>\n",
       "    <tr>\n",
       "      <th>4</th>\n",
       "      <td>5</td>\n",
       "      <td>Father of the Bride Part II (1995)</td>\n",
       "      <td>Comedy</td>\n",
       "    </tr>\n",
       "    <tr>\n",
       "      <th>...</th>\n",
       "      <td>...</td>\n",
       "      <td>...</td>\n",
       "      <td>...</td>\n",
       "    </tr>\n",
       "    <tr>\n",
       "      <th>3878</th>\n",
       "      <td>3948</td>\n",
       "      <td>Meet the Parents (2000)</td>\n",
       "      <td>Comedy</td>\n",
       "    </tr>\n",
       "    <tr>\n",
       "      <th>3879</th>\n",
       "      <td>3949</td>\n",
       "      <td>Requiem for a Dream (2000)</td>\n",
       "      <td>Drama</td>\n",
       "    </tr>\n",
       "    <tr>\n",
       "      <th>3880</th>\n",
       "      <td>3950</td>\n",
       "      <td>Tigerland (2000)</td>\n",
       "      <td>Drama</td>\n",
       "    </tr>\n",
       "    <tr>\n",
       "      <th>3881</th>\n",
       "      <td>3951</td>\n",
       "      <td>Two Family House (2000)</td>\n",
       "      <td>Drama</td>\n",
       "    </tr>\n",
       "    <tr>\n",
       "      <th>3882</th>\n",
       "      <td>3952</td>\n",
       "      <td>Contender, The (2000)</td>\n",
       "      <td>Drama|Thriller</td>\n",
       "    </tr>\n",
       "  </tbody>\n",
       "</table>\n",
       "<p>3883 rows × 3 columns</p>\n",
       "</div>"
      ],
      "text/plain": [
       "        id                            movieN+Y                         Genre\n",
       "0        1                    Toy Story (1995)   Animation|Children's|Comedy\n",
       "1        2                      Jumanji (1995)  Adventure|Children's|Fantasy\n",
       "2        3             Grumpier Old Men (1995)                Comedy|Romance\n",
       "3        4            Waiting to Exhale (1995)                  Comedy|Drama\n",
       "4        5  Father of the Bride Part II (1995)                        Comedy\n",
       "...    ...                                 ...                           ...\n",
       "3878  3948             Meet the Parents (2000)                        Comedy\n",
       "3879  3949          Requiem for a Dream (2000)                         Drama\n",
       "3880  3950                    Tigerland (2000)                         Drama\n",
       "3881  3951             Two Family House (2000)                         Drama\n",
       "3882  3952               Contender, The (2000)                Drama|Thriller\n",
       "\n",
       "[3883 rows x 3 columns]"
      ]
     },
     "execution_count": 637,
     "metadata": {},
     "output_type": "execute_result"
    }
   ],
   "source": [
    "df1=df.copy()\n",
    "df1"
   ]
  },
  {
   "cell_type": "code",
   "execution_count": 638,
   "id": "a3bcf0c3",
   "metadata": {},
   "outputs": [],
   "source": [
    "# explicación: r'\\(\\d{4}\\)': Esta es una expresión regular que busca una secuencia de cuatro dígitos encerrada en paréntesis. Explicado más detalladamente:\n",
    "#\\(: Esto busca un paréntesis de apertura. Dado que los paréntesis son caracteres especiales en expresiones regulares, se deben escapar con \\ para que se interpreten literalmente.\n",
    "#\\d{4}: Esto busca exactamente cuatro dígitos consecutivos (que representan el año).\n",
    "#\\): Esto busca un paréntesis de cierre.\n",
    "#'': Esto es la cadena de reemplazo y está vacía, lo que significa que cualquier coincidencia con el patrón será reemplazada por una cadena vacía, lo que efectivamente elimina los años y los paréntesis.\n",
    "#regex=True: Indica que estás utilizando una expresión regular en el patrón de búsqueda"
   ]
  },
  {
   "cell_type": "markdown",
   "id": "82b5d918",
   "metadata": {},
   "source": [
    "- Nombro dos columnas nuevas: A la primera, le extraemos el año, que equivale a 4 dígitos entre paréntesis. A la segunda, le digo de vaciar el espacio '' que ocupaba año.\n",
    "- Luego elimino la antigua columna.\n"
   ]
  },
  {
   "cell_type": "code",
   "execution_count": 639,
   "id": "3a4c4b01",
   "metadata": {},
   "outputs": [
    {
     "data": {
      "text/html": [
       "<div>\n",
       "<style scoped>\n",
       "    .dataframe tbody tr th:only-of-type {\n",
       "        vertical-align: middle;\n",
       "    }\n",
       "\n",
       "    .dataframe tbody tr th {\n",
       "        vertical-align: top;\n",
       "    }\n",
       "\n",
       "    .dataframe thead th {\n",
       "        text-align: right;\n",
       "    }\n",
       "</style>\n",
       "<table border=\"1\" class=\"dataframe\">\n",
       "  <thead>\n",
       "    <tr style=\"text-align: right;\">\n",
       "      <th></th>\n",
       "      <th>id</th>\n",
       "      <th>Genre</th>\n",
       "      <th>año</th>\n",
       "      <th>peli</th>\n",
       "    </tr>\n",
       "  </thead>\n",
       "  <tbody>\n",
       "    <tr>\n",
       "      <th>0</th>\n",
       "      <td>1</td>\n",
       "      <td>Animation|Children's|Comedy</td>\n",
       "      <td>1995</td>\n",
       "      <td>Toy Story</td>\n",
       "    </tr>\n",
       "    <tr>\n",
       "      <th>1</th>\n",
       "      <td>2</td>\n",
       "      <td>Adventure|Children's|Fantasy</td>\n",
       "      <td>1995</td>\n",
       "      <td>Jumanji</td>\n",
       "    </tr>\n",
       "    <tr>\n",
       "      <th>2</th>\n",
       "      <td>3</td>\n",
       "      <td>Comedy|Romance</td>\n",
       "      <td>1995</td>\n",
       "      <td>Grumpier Old Men</td>\n",
       "    </tr>\n",
       "    <tr>\n",
       "      <th>3</th>\n",
       "      <td>4</td>\n",
       "      <td>Comedy|Drama</td>\n",
       "      <td>1995</td>\n",
       "      <td>Waiting to Exhale</td>\n",
       "    </tr>\n",
       "    <tr>\n",
       "      <th>4</th>\n",
       "      <td>5</td>\n",
       "      <td>Comedy</td>\n",
       "      <td>1995</td>\n",
       "      <td>Father of the Bride Part II</td>\n",
       "    </tr>\n",
       "    <tr>\n",
       "      <th>...</th>\n",
       "      <td>...</td>\n",
       "      <td>...</td>\n",
       "      <td>...</td>\n",
       "      <td>...</td>\n",
       "    </tr>\n",
       "    <tr>\n",
       "      <th>3878</th>\n",
       "      <td>3948</td>\n",
       "      <td>Comedy</td>\n",
       "      <td>2000</td>\n",
       "      <td>Meet the Parents</td>\n",
       "    </tr>\n",
       "    <tr>\n",
       "      <th>3879</th>\n",
       "      <td>3949</td>\n",
       "      <td>Drama</td>\n",
       "      <td>2000</td>\n",
       "      <td>Requiem for a Dream</td>\n",
       "    </tr>\n",
       "    <tr>\n",
       "      <th>3880</th>\n",
       "      <td>3950</td>\n",
       "      <td>Drama</td>\n",
       "      <td>2000</td>\n",
       "      <td>Tigerland</td>\n",
       "    </tr>\n",
       "    <tr>\n",
       "      <th>3881</th>\n",
       "      <td>3951</td>\n",
       "      <td>Drama</td>\n",
       "      <td>2000</td>\n",
       "      <td>Two Family House</td>\n",
       "    </tr>\n",
       "    <tr>\n",
       "      <th>3882</th>\n",
       "      <td>3952</td>\n",
       "      <td>Drama|Thriller</td>\n",
       "      <td>2000</td>\n",
       "      <td>Contender, The</td>\n",
       "    </tr>\n",
       "  </tbody>\n",
       "</table>\n",
       "<p>3883 rows × 4 columns</p>\n",
       "</div>"
      ],
      "text/plain": [
       "        id                         Genre   año                          peli\n",
       "0        1   Animation|Children's|Comedy  1995                    Toy Story \n",
       "1        2  Adventure|Children's|Fantasy  1995                      Jumanji \n",
       "2        3                Comedy|Romance  1995             Grumpier Old Men \n",
       "3        4                  Comedy|Drama  1995            Waiting to Exhale \n",
       "4        5                        Comedy  1995  Father of the Bride Part II \n",
       "...    ...                           ...   ...                           ...\n",
       "3878  3948                        Comedy  2000             Meet the Parents \n",
       "3879  3949                         Drama  2000          Requiem for a Dream \n",
       "3880  3950                         Drama  2000                    Tigerland \n",
       "3881  3951                         Drama  2000             Two Family House \n",
       "3882  3952                Drama|Thriller  2000               Contender, The \n",
       "\n",
       "[3883 rows x 4 columns]"
      ]
     },
     "execution_count": 639,
     "metadata": {},
     "output_type": "execute_result"
    }
   ],
   "source": [
    "df1['año'] = df['movieN+Y'].str.extract(r'(\\d{4})')\n",
    "df1['peli'] = df['movieN+Y'].str.replace(r'\\(\\d{4}\\)', '', regex=True)\n",
    "\n",
    "df1.drop('movieN+Y', axis=1, inplace=True)\n",
    "df1 # dataframe con año separado y eliminado de movie."
   ]
  },
  {
   "cell_type": "markdown",
   "id": "24892520",
   "metadata": {},
   "source": [
    "- Ahora voy a dividir la columna de Genre.\n",
    "El ejercicio decía que era importante quedarse con un solo género por cada película, pero al no ser del sector, y por miedo a no quedarme con la más importante, he decidido crear una columna subgénero para guardar las restantes."
   ]
  },
  {
   "cell_type": "code",
   "execution_count": 640,
   "id": "9e0f1ced",
   "metadata": {},
   "outputs": [
    {
     "data": {
      "text/html": [
       "<div>\n",
       "<style scoped>\n",
       "    .dataframe tbody tr th:only-of-type {\n",
       "        vertical-align: middle;\n",
       "    }\n",
       "\n",
       "    .dataframe tbody tr th {\n",
       "        vertical-align: top;\n",
       "    }\n",
       "\n",
       "    .dataframe thead th {\n",
       "        text-align: right;\n",
       "    }\n",
       "</style>\n",
       "<table border=\"1\" class=\"dataframe\">\n",
       "  <thead>\n",
       "    <tr style=\"text-align: right;\">\n",
       "      <th></th>\n",
       "      <th>id</th>\n",
       "      <th>año</th>\n",
       "      <th>peli</th>\n",
       "      <th>genero</th>\n",
       "      <th>subgenero</th>\n",
       "    </tr>\n",
       "  </thead>\n",
       "  <tbody>\n",
       "    <tr>\n",
       "      <th>0</th>\n",
       "      <td>1</td>\n",
       "      <td>1995</td>\n",
       "      <td>Toy Story</td>\n",
       "      <td>Animation</td>\n",
       "      <td>Children's|Comedy</td>\n",
       "    </tr>\n",
       "    <tr>\n",
       "      <th>1</th>\n",
       "      <td>2</td>\n",
       "      <td>1995</td>\n",
       "      <td>Jumanji</td>\n",
       "      <td>Adventure</td>\n",
       "      <td>Children's|Fantasy</td>\n",
       "    </tr>\n",
       "    <tr>\n",
       "      <th>2</th>\n",
       "      <td>3</td>\n",
       "      <td>1995</td>\n",
       "      <td>Grumpier Old Men</td>\n",
       "      <td>Comedy</td>\n",
       "      <td>Romance</td>\n",
       "    </tr>\n",
       "    <tr>\n",
       "      <th>3</th>\n",
       "      <td>4</td>\n",
       "      <td>1995</td>\n",
       "      <td>Waiting to Exhale</td>\n",
       "      <td>Comedy</td>\n",
       "      <td>Drama</td>\n",
       "    </tr>\n",
       "    <tr>\n",
       "      <th>4</th>\n",
       "      <td>5</td>\n",
       "      <td>1995</td>\n",
       "      <td>Father of the Bride Part II</td>\n",
       "      <td>Comedy</td>\n",
       "      <td>None</td>\n",
       "    </tr>\n",
       "    <tr>\n",
       "      <th>...</th>\n",
       "      <td>...</td>\n",
       "      <td>...</td>\n",
       "      <td>...</td>\n",
       "      <td>...</td>\n",
       "      <td>...</td>\n",
       "    </tr>\n",
       "    <tr>\n",
       "      <th>3878</th>\n",
       "      <td>3948</td>\n",
       "      <td>2000</td>\n",
       "      <td>Meet the Parents</td>\n",
       "      <td>Comedy</td>\n",
       "      <td>None</td>\n",
       "    </tr>\n",
       "    <tr>\n",
       "      <th>3879</th>\n",
       "      <td>3949</td>\n",
       "      <td>2000</td>\n",
       "      <td>Requiem for a Dream</td>\n",
       "      <td>Drama</td>\n",
       "      <td>None</td>\n",
       "    </tr>\n",
       "    <tr>\n",
       "      <th>3880</th>\n",
       "      <td>3950</td>\n",
       "      <td>2000</td>\n",
       "      <td>Tigerland</td>\n",
       "      <td>Drama</td>\n",
       "      <td>None</td>\n",
       "    </tr>\n",
       "    <tr>\n",
       "      <th>3881</th>\n",
       "      <td>3951</td>\n",
       "      <td>2000</td>\n",
       "      <td>Two Family House</td>\n",
       "      <td>Drama</td>\n",
       "      <td>None</td>\n",
       "    </tr>\n",
       "    <tr>\n",
       "      <th>3882</th>\n",
       "      <td>3952</td>\n",
       "      <td>2000</td>\n",
       "      <td>Contender, The</td>\n",
       "      <td>Drama</td>\n",
       "      <td>Thriller</td>\n",
       "    </tr>\n",
       "  </tbody>\n",
       "</table>\n",
       "<p>3883 rows × 5 columns</p>\n",
       "</div>"
      ],
      "text/plain": [
       "        id   año                          peli     genero           subgenero\n",
       "0        1  1995                    Toy Story   Animation   Children's|Comedy\n",
       "1        2  1995                      Jumanji   Adventure  Children's|Fantasy\n",
       "2        3  1995             Grumpier Old Men      Comedy             Romance\n",
       "3        4  1995            Waiting to Exhale      Comedy               Drama\n",
       "4        5  1995  Father of the Bride Part II      Comedy                None\n",
       "...    ...   ...                           ...        ...                 ...\n",
       "3878  3948  2000             Meet the Parents      Comedy                None\n",
       "3879  3949  2000          Requiem for a Dream       Drama                None\n",
       "3880  3950  2000                    Tigerland       Drama                None\n",
       "3881  3951  2000             Two Family House       Drama                None\n",
       "3882  3952  2000               Contender, The       Drama            Thriller\n",
       "\n",
       "[3883 rows x 5 columns]"
      ]
     },
     "execution_count": 640,
     "metadata": {},
     "output_type": "execute_result"
    }
   ],
   "source": [
    "df2= df1.copy()\n",
    "df2[['genero', 'subgenero']] = df['Genre'].str.split(r'\\|', n=1, expand=True)\n",
    "#dividir la columna 'genre' en dos partes utilizando la expresión regular r'\\|', que coincide con el carácter '|'. El argumento n=1 garantiza que solo se realice una división en el primer '|', creando así dos columnas: 'subgenre' y 'genre'.\n",
    "df2.drop('Genre', axis=1, inplace=True)\n",
    "df2"
   ]
  },
  {
   "cell_type": "code",
   "execution_count": 641,
   "id": "1dde9a90",
   "metadata": {},
   "outputs": [
    {
     "data": {
      "text/plain": [
       "3883"
      ]
     },
     "execution_count": 641,
     "metadata": {},
     "output_type": "execute_result"
    }
   ],
   "source": [
    "df2['genero'].count()"
   ]
  },
  {
   "cell_type": "code",
   "execution_count": 642,
   "id": "c77d8da7",
   "metadata": {},
   "outputs": [
    {
     "data": {
      "text/plain": [
       "1858"
      ]
     },
     "execution_count": 642,
     "metadata": {},
     "output_type": "execute_result"
    }
   ],
   "source": [
    "df2['subgenero'].count() # tendré que ver qué pongo en las celdas vacías restantes."
   ]
  },
  {
   "cell_type": "markdown",
   "id": "1d1f0406",
   "metadata": {},
   "source": [
    "Vemos que en el caso de género, todas las películas tienen un primer género asignado, cosa que no pasa en subgénero.\n",
    "Así que voy a pensar una palabra para las casillas vacías. De todas formas quiero ver si hay más NaN que los mencionados."
   ]
  },
  {
   "cell_type": "markdown",
   "id": "8a096fbc",
   "metadata": {},
   "source": [
    "- Ahora quiero convertir los datos de objeto a : integro en el caso de fecha, y categoría en el caso de género."
   ]
  },
  {
   "cell_type": "code",
   "execution_count": 643,
   "id": "8e27f660",
   "metadata": {},
   "outputs": [],
   "source": [
    "df2['año'] = df2['año'].astype('int')\n",
    "df2['genero']= df2['genero'].astype('category')"
   ]
  },
  {
   "cell_type": "code",
   "execution_count": 644,
   "id": "8bd94ec9",
   "metadata": {},
   "outputs": [
    {
     "name": "stdout",
     "output_type": "stream",
     "text": [
      "<class 'pandas.core.frame.DataFrame'>\n",
      "RangeIndex: 3883 entries, 0 to 3882\n",
      "Data columns (total 5 columns):\n",
      " #   Column     Non-Null Count  Dtype   \n",
      "---  ------     --------------  -----   \n",
      " 0   id         3883 non-null   int64   \n",
      " 1   año        3883 non-null   int64   \n",
      " 2   peli       3883 non-null   object  \n",
      " 3   genero     3883 non-null   category\n",
      " 4   subgenero  1858 non-null   object  \n",
      "dtypes: category(1), int64(2), object(2)\n",
      "memory usage: 125.9+ KB\n"
     ]
    }
   ],
   "source": [
    "df2.info() # ver qué datos convertir: año a date, género a categoría y el resto los puedo dejar a objetos."
   ]
  },
  {
   "cell_type": "code",
   "execution_count": 645,
   "id": "3db41c6a",
   "metadata": {},
   "outputs": [],
   "source": [
    "df2['subgenero'].fillna(\"no existen subcategorías\", inplace=True)"
   ]
  },
  {
   "cell_type": "code",
   "execution_count": 646,
   "id": "b0eae748",
   "metadata": {},
   "outputs": [
    {
     "data": {
      "text/plain": [
       "id     año    peli   genero  subgenero\n",
       "False  False  False  False   False        3883\n",
       "dtype: int64"
      ]
     },
     "execution_count": 646,
     "metadata": {},
     "output_type": "execute_result"
    }
   ],
   "source": [
    "df2.isnull().value_counts()"
   ]
  },
  {
   "cell_type": "code",
   "execution_count": 647,
   "id": "0cf31f93",
   "metadata": {},
   "outputs": [
    {
     "data": {
      "text/html": [
       "<div>\n",
       "<style scoped>\n",
       "    .dataframe tbody tr th:only-of-type {\n",
       "        vertical-align: middle;\n",
       "    }\n",
       "\n",
       "    .dataframe tbody tr th {\n",
       "        vertical-align: top;\n",
       "    }\n",
       "\n",
       "    .dataframe thead th {\n",
       "        text-align: right;\n",
       "    }\n",
       "</style>\n",
       "<table border=\"1\" class=\"dataframe\">\n",
       "  <thead>\n",
       "    <tr style=\"text-align: right;\">\n",
       "      <th></th>\n",
       "      <th>id</th>\n",
       "      <th>año</th>\n",
       "      <th>peli</th>\n",
       "      <th>genero</th>\n",
       "      <th>subgenero</th>\n",
       "    </tr>\n",
       "  </thead>\n",
       "  <tbody>\n",
       "    <tr>\n",
       "      <th>0</th>\n",
       "      <td>1</td>\n",
       "      <td>1995</td>\n",
       "      <td>Toy Story</td>\n",
       "      <td>Animation</td>\n",
       "      <td>Children's|Comedy</td>\n",
       "    </tr>\n",
       "    <tr>\n",
       "      <th>1</th>\n",
       "      <td>2</td>\n",
       "      <td>1995</td>\n",
       "      <td>Jumanji</td>\n",
       "      <td>Adventure</td>\n",
       "      <td>Children's|Fantasy</td>\n",
       "    </tr>\n",
       "    <tr>\n",
       "      <th>2</th>\n",
       "      <td>3</td>\n",
       "      <td>1995</td>\n",
       "      <td>Grumpier Old Men</td>\n",
       "      <td>Comedy</td>\n",
       "      <td>Romance</td>\n",
       "    </tr>\n",
       "    <tr>\n",
       "      <th>3</th>\n",
       "      <td>4</td>\n",
       "      <td>1995</td>\n",
       "      <td>Waiting to Exhale</td>\n",
       "      <td>Comedy</td>\n",
       "      <td>Drama</td>\n",
       "    </tr>\n",
       "    <tr>\n",
       "      <th>4</th>\n",
       "      <td>5</td>\n",
       "      <td>1995</td>\n",
       "      <td>Father of the Bride Part II</td>\n",
       "      <td>Comedy</td>\n",
       "      <td>no existen subcategorías</td>\n",
       "    </tr>\n",
       "    <tr>\n",
       "      <th>...</th>\n",
       "      <td>...</td>\n",
       "      <td>...</td>\n",
       "      <td>...</td>\n",
       "      <td>...</td>\n",
       "      <td>...</td>\n",
       "    </tr>\n",
       "    <tr>\n",
       "      <th>3878</th>\n",
       "      <td>3948</td>\n",
       "      <td>2000</td>\n",
       "      <td>Meet the Parents</td>\n",
       "      <td>Comedy</td>\n",
       "      <td>no existen subcategorías</td>\n",
       "    </tr>\n",
       "    <tr>\n",
       "      <th>3879</th>\n",
       "      <td>3949</td>\n",
       "      <td>2000</td>\n",
       "      <td>Requiem for a Dream</td>\n",
       "      <td>Drama</td>\n",
       "      <td>no existen subcategorías</td>\n",
       "    </tr>\n",
       "    <tr>\n",
       "      <th>3880</th>\n",
       "      <td>3950</td>\n",
       "      <td>2000</td>\n",
       "      <td>Tigerland</td>\n",
       "      <td>Drama</td>\n",
       "      <td>no existen subcategorías</td>\n",
       "    </tr>\n",
       "    <tr>\n",
       "      <th>3881</th>\n",
       "      <td>3951</td>\n",
       "      <td>2000</td>\n",
       "      <td>Two Family House</td>\n",
       "      <td>Drama</td>\n",
       "      <td>no existen subcategorías</td>\n",
       "    </tr>\n",
       "    <tr>\n",
       "      <th>3882</th>\n",
       "      <td>3952</td>\n",
       "      <td>2000</td>\n",
       "      <td>Contender, The</td>\n",
       "      <td>Drama</td>\n",
       "      <td>Thriller</td>\n",
       "    </tr>\n",
       "  </tbody>\n",
       "</table>\n",
       "<p>3883 rows × 5 columns</p>\n",
       "</div>"
      ],
      "text/plain": [
       "        id   año                          peli     genero  \\\n",
       "0        1  1995                    Toy Story   Animation   \n",
       "1        2  1995                      Jumanji   Adventure   \n",
       "2        3  1995             Grumpier Old Men      Comedy   \n",
       "3        4  1995            Waiting to Exhale      Comedy   \n",
       "4        5  1995  Father of the Bride Part II      Comedy   \n",
       "...    ...   ...                           ...        ...   \n",
       "3878  3948  2000             Meet the Parents      Comedy   \n",
       "3879  3949  2000          Requiem for a Dream       Drama   \n",
       "3880  3950  2000                    Tigerland       Drama   \n",
       "3881  3951  2000             Two Family House       Drama   \n",
       "3882  3952  2000               Contender, The       Drama   \n",
       "\n",
       "                     subgenero  \n",
       "0            Children's|Comedy  \n",
       "1           Children's|Fantasy  \n",
       "2                      Romance  \n",
       "3                        Drama  \n",
       "4     no existen subcategorías  \n",
       "...                        ...  \n",
       "3878  no existen subcategorías  \n",
       "3879  no existen subcategorías  \n",
       "3880  no existen subcategorías  \n",
       "3881  no existen subcategorías  \n",
       "3882                  Thriller  \n",
       "\n",
       "[3883 rows x 5 columns]"
      ]
     },
     "execution_count": 647,
     "metadata": {},
     "output_type": "execute_result"
    }
   ],
   "source": [
    "df2"
   ]
  },
  {
   "cell_type": "markdown",
   "id": "3882fcb4",
   "metadata": {},
   "source": [
    "Ara he observat que l'exercici demana que el DF final , només pot contenir 3 variables:  nom de la pel·lícula, any i genere. Amb un sol gènere per a cada pel·lícula.\n",
    "- Així que faré el DF definitiu i eliminaré l'ID antic i la casella de subtrama."
   ]
  },
  {
   "cell_type": "code",
   "execution_count": 648,
   "id": "68459dd6",
   "metadata": {},
   "outputs": [
    {
     "data": {
      "text/html": [
       "<div>\n",
       "<style scoped>\n",
       "    .dataframe tbody tr th:only-of-type {\n",
       "        vertical-align: middle;\n",
       "    }\n",
       "\n",
       "    .dataframe tbody tr th {\n",
       "        vertical-align: top;\n",
       "    }\n",
       "\n",
       "    .dataframe thead th {\n",
       "        text-align: right;\n",
       "    }\n",
       "</style>\n",
       "<table border=\"1\" class=\"dataframe\">\n",
       "  <thead>\n",
       "    <tr style=\"text-align: right;\">\n",
       "      <th></th>\n",
       "      <th>año</th>\n",
       "      <th>peli</th>\n",
       "      <th>genero</th>\n",
       "    </tr>\n",
       "  </thead>\n",
       "  <tbody>\n",
       "    <tr>\n",
       "      <th>1398</th>\n",
       "      <td>1600</td>\n",
       "      <td>Murder at 1600</td>\n",
       "      <td>Mystery</td>\n",
       "    </tr>\n",
       "    <tr>\n",
       "      <th>2622</th>\n",
       "      <td>1900</td>\n",
       "      <td>Legend of 1900, The (Leggenda del pianista sull'oceano)</td>\n",
       "      <td>Drama</td>\n",
       "    </tr>\n",
       "    <tr>\n",
       "      <th>3063</th>\n",
       "      <td>1919</td>\n",
       "      <td>Daddy Long Legs</td>\n",
       "      <td>Comedy</td>\n",
       "    </tr>\n",
       "    <tr>\n",
       "      <th>2752</th>\n",
       "      <td>1919</td>\n",
       "      <td>Male and Female</td>\n",
       "      <td>Adventure</td>\n",
       "    </tr>\n",
       "    <tr>\n",
       "      <th>2754</th>\n",
       "      <td>1919</td>\n",
       "      <td>Spiders, The (Die Spinnen, 1. Teil: Der Goldene See)</td>\n",
       "      <td>Action</td>\n",
       "    </tr>\n",
       "    <tr>\n",
       "      <th>...</th>\n",
       "      <td>...</td>\n",
       "      <td>...</td>\n",
       "      <td>...</td>\n",
       "    </tr>\n",
       "    <tr>\n",
       "      <th>912</th>\n",
       "      <td>2001</td>\n",
       "      <td>2001: A Space Odyssey</td>\n",
       "      <td>Drama</td>\n",
       "    </tr>\n",
       "    <tr>\n",
       "      <th>2242</th>\n",
       "      <td>2010</td>\n",
       "      <td>2010</td>\n",
       "      <td>Mystery</td>\n",
       "    </tr>\n",
       "    <tr>\n",
       "      <th>665</th>\n",
       "      <td>3000</td>\n",
       "      <td>Mystery Science Theater 3000: The Movie</td>\n",
       "      <td>Comedy</td>\n",
       "    </tr>\n",
       "    <tr>\n",
       "      <th>3775</th>\n",
       "      <td>8230</td>\n",
       "      <td>And God Created Woman (Et Dieu&amp;#8230;Créa la Femme)</td>\n",
       "      <td>Drama</td>\n",
       "    </tr>\n",
       "    <tr>\n",
       "      <th>2239</th>\n",
       "      <td>9000</td>\n",
       "      <td>Detroit 9000</td>\n",
       "      <td>Action</td>\n",
       "    </tr>\n",
       "  </tbody>\n",
       "</table>\n",
       "<p>3883 rows × 3 columns</p>\n",
       "</div>"
      ],
      "text/plain": [
       "       año                                                      peli  \\\n",
       "1398  1600                                           Murder at 1600    \n",
       "2622  1900  Legend of 1900, The (Leggenda del pianista sull'oceano)    \n",
       "3063  1919                                          Daddy Long Legs    \n",
       "2752  1919                                          Male and Female    \n",
       "2754  1919     Spiders, The (Die Spinnen, 1. Teil: Der Goldene See)    \n",
       "...    ...                                                       ...   \n",
       "912   2001                                    2001: A Space Odyssey    \n",
       "2242  2010                                                     2010    \n",
       "665   3000                  Mystery Science Theater 3000: The Movie    \n",
       "3775  8230      And God Created Woman (Et Dieu&#8230;Créa la Femme)    \n",
       "2239  9000                                             Detroit 9000    \n",
       "\n",
       "         genero  \n",
       "1398    Mystery  \n",
       "2622      Drama  \n",
       "3063     Comedy  \n",
       "2752  Adventure  \n",
       "2754     Action  \n",
       "...         ...  \n",
       "912       Drama  \n",
       "2242    Mystery  \n",
       "665      Comedy  \n",
       "3775      Drama  \n",
       "2239     Action  \n",
       "\n",
       "[3883 rows x 3 columns]"
      ]
     },
     "execution_count": 648,
     "metadata": {},
     "output_type": "execute_result"
    }
   ],
   "source": [
    "DF_DEF = pd.DataFrame(columns=['año', 'peli', 'genero'])  # creo DataFrame vacío con las columnas que deseo.\n",
    "DF_DEF[['año', 'peli', 'genero']] = df2[['año', 'peli', 'genero']].copy()  # Copio las columnas correspondientes\n",
    "DF_DEF.sort_values(by='año',inplace=True)\n",
    "# podría haber hecho como siempre, copia y elimino las que me sobran.\n",
    "DF_DEF"
   ]
  },
  {
   "cell_type": "markdown",
   "id": "9b629061",
   "metadata": {},
   "source": [
    "- Me dispongo a ver el rango de años de la base de datos, para deducir errores y evitar encontrarmelos posteriormente en las gráficas."
   ]
  },
  {
   "cell_type": "code",
   "execution_count": 649,
   "id": "6d3a7a4a",
   "metadata": {},
   "outputs": [
    {
     "data": {
      "text/plain": [
       "array([1600, 1900, 1919, 1920, 1921, 1922, 1923, 1925, 1926, 1927, 1928,\n",
       "       1929, 1930, 1931, 1932, 1933, 1934, 1935, 1936, 1937, 1938, 1939,\n",
       "       1940, 1941, 1942, 1943, 1944, 1945, 1946, 1947, 1948, 1949, 1950,\n",
       "       1951, 1952, 1953, 1954, 1955, 1956, 1957, 1958, 1959, 1960, 1961,\n",
       "       1962, 1963, 1964, 1965, 1966, 1967, 1968, 1969, 1970, 1971, 1972,\n",
       "       1973, 1974, 1975, 1976, 1977, 1978, 1979, 1980, 1981, 1982, 1983,\n",
       "       1984, 1985, 1986, 1987, 1988, 1989, 1990, 1991, 1992, 1993, 1994,\n",
       "       1995, 1996, 1997, 1998, 1999, 2000, 2001, 2010, 3000, 8230, 9000])"
      ]
     },
     "execution_count": 649,
     "metadata": {},
     "output_type": "execute_result"
    }
   ],
   "source": [
    "DF_DEF['año'].unique()"
   ]
  },
  {
   "cell_type": "markdown",
   "id": "b9cf35f5",
   "metadata": {},
   "source": [
    "- Observo valores disparados, voy a ver en qué cantidad los tenemos y como corregirlos."
   ]
  },
  {
   "cell_type": "code",
   "execution_count": 650,
   "id": "ee5052a0",
   "metadata": {},
   "outputs": [
    {
     "data": {
      "text/plain": [
       "False    3882\n",
       "True        1\n",
       "Name: año, dtype: int64"
      ]
     },
     "execution_count": 650,
     "metadata": {},
     "output_type": "execute_result"
    }
   ],
   "source": [
    "DF_1600 = (DF_DEF['año']==1600).value_counts()\n",
    "DF_1600"
   ]
  },
  {
   "cell_type": "code",
   "execution_count": 651,
   "id": "8101646c",
   "metadata": {},
   "outputs": [
    {
     "data": {
      "text/plain": [
       "False    3880\n",
       "True        3\n",
       "Name: año, dtype: int64"
      ]
     },
     "execution_count": 651,
     "metadata": {},
     "output_type": "execute_result"
    }
   ],
   "source": [
    "DF_3000 = (DF_DEF['año'] >=3000).value_counts()\n",
    "DF_3000"
   ]
  },
  {
   "cell_type": "markdown",
   "id": "eb1bd80d",
   "metadata": {},
   "source": [
    "- Observo que son errores tipográficos, puesto que hay uno de cada y no podemos tener películas del año 1600 ni de años futuros. "
   ]
  },
  {
   "cell_type": "code",
   "execution_count": 652,
   "id": "3f86d3ae",
   "metadata": {},
   "outputs": [
    {
     "data": {
      "text/html": [
       "<div>\n",
       "<style scoped>\n",
       "    .dataframe tbody tr th:only-of-type {\n",
       "        vertical-align: middle;\n",
       "    }\n",
       "\n",
       "    .dataframe tbody tr th {\n",
       "        vertical-align: top;\n",
       "    }\n",
       "\n",
       "    .dataframe thead th {\n",
       "        text-align: right;\n",
       "    }\n",
       "</style>\n",
       "<table border=\"1\" class=\"dataframe\">\n",
       "  <thead>\n",
       "    <tr style=\"text-align: right;\">\n",
       "      <th></th>\n",
       "      <th>año</th>\n",
       "      <th>peli</th>\n",
       "      <th>genero</th>\n",
       "    </tr>\n",
       "  </thead>\n",
       "  <tbody>\n",
       "    <tr>\n",
       "      <th>1398</th>\n",
       "      <td>1600</td>\n",
       "      <td>Murder at 1600</td>\n",
       "      <td>Mystery</td>\n",
       "    </tr>\n",
       "  </tbody>\n",
       "</table>\n",
       "</div>"
      ],
      "text/plain": [
       "       año             peli   genero\n",
       "1398  1600  Murder at 1600   Mystery"
      ]
     },
     "execution_count": 652,
     "metadata": {},
     "output_type": "execute_result"
    }
   ],
   "source": [
    "fila_con_1600 = DF_DEF[DF_DEF['año'] == 1600]\n",
    "fila_con_1600"
   ]
  },
  {
   "cell_type": "code",
   "execution_count": 653,
   "id": "5a656c58",
   "metadata": {},
   "outputs": [
    {
     "data": {
      "text/html": [
       "<div>\n",
       "<style scoped>\n",
       "    .dataframe tbody tr th:only-of-type {\n",
       "        vertical-align: middle;\n",
       "    }\n",
       "\n",
       "    .dataframe tbody tr th {\n",
       "        vertical-align: top;\n",
       "    }\n",
       "\n",
       "    .dataframe thead th {\n",
       "        text-align: right;\n",
       "    }\n",
       "</style>\n",
       "<table border=\"1\" class=\"dataframe\">\n",
       "  <thead>\n",
       "    <tr style=\"text-align: right;\">\n",
       "      <th></th>\n",
       "      <th>año</th>\n",
       "      <th>peli</th>\n",
       "      <th>genero</th>\n",
       "    </tr>\n",
       "  </thead>\n",
       "  <tbody>\n",
       "    <tr>\n",
       "      <th>665</th>\n",
       "      <td>3000</td>\n",
       "      <td>Mystery Science Theater 3000: The Movie</td>\n",
       "      <td>Comedy</td>\n",
       "    </tr>\n",
       "    <tr>\n",
       "      <th>3775</th>\n",
       "      <td>8230</td>\n",
       "      <td>And God Created Woman (Et Dieu&amp;#8230;Créa la Femme)</td>\n",
       "      <td>Drama</td>\n",
       "    </tr>\n",
       "    <tr>\n",
       "      <th>2239</th>\n",
       "      <td>9000</td>\n",
       "      <td>Detroit 9000</td>\n",
       "      <td>Action</td>\n",
       "    </tr>\n",
       "  </tbody>\n",
       "</table>\n",
       "</div>"
      ],
      "text/plain": [
       "       año                                                  peli  genero\n",
       "665   3000              Mystery Science Theater 3000: The Movie   Comedy\n",
       "3775  8230  And God Created Woman (Et Dieu&#8230;Créa la Femme)    Drama\n",
       "2239  9000                                         Detroit 9000   Action"
      ]
     },
     "execution_count": 653,
     "metadata": {},
     "output_type": "execute_result"
    }
   ],
   "source": [
    "pd.set_option('display.max_colwidth', None) # Configura la opción para mostrar la columna completa\n",
    "fila_mas_2010 = DF_DEF[DF_DEF['año'] > 2010]\n",
    "fila_mas_2010"
   ]
  },
  {
   "cell_type": "markdown",
   "id": "3a073852",
   "metadata": {},
   "source": [
    "- Me doy cuenta que en todos los años erróneos, está la cifra en parte del título de la peli."
   ]
  },
  {
   "cell_type": "markdown",
   "id": "e8e550cb",
   "metadata": {},
   "source": [
    "Me dispongo a sustituir los años de las 4 filas por un texto que ponga 'sin año' "
   ]
  },
  {
   "cell_type": "code",
   "execution_count": 654,
   "id": "6db474ac",
   "metadata": {},
   "outputs": [],
   "source": [
    "DF_DEF.loc[(DF_DEF['año'] < 1900) | (DF_DEF['año'] > 2100), 'año'] = 'sin año'"
   ]
  },
  {
   "cell_type": "markdown",
   "id": "90987b69",
   "metadata": {},
   "source": [
    "Compruebo que haya salido bien"
   ]
  },
  {
   "cell_type": "code",
   "execution_count": 655,
   "id": "a10b4561",
   "metadata": {},
   "outputs": [
    {
     "name": "stdout",
     "output_type": "stream",
     "text": [
      "          año                                                  peli   genero\n",
      "1398  sin año                                       Murder at 1600   Mystery\n",
      "665   sin año              Mystery Science Theater 3000: The Movie    Comedy\n",
      "3775  sin año  And God Created Woman (Et Dieu&#8230;Créa la Femme)     Drama\n",
      "2239  sin año                                         Detroit 9000    Action\n"
     ]
    }
   ],
   "source": [
    "filas_seleccionadas = DF_DEF.loc[[1398, 665, 3775, 2239]]\n",
    "print(filas_seleccionadas)"
   ]
  },
  {
   "cell_type": "code",
   "execution_count": 656,
   "id": "caa2d0d1",
   "metadata": {},
   "outputs": [],
   "source": [
    "# DF_DEF.loc[1398] si las quiero ver una por una."
   ]
  },
  {
   "cell_type": "markdown",
   "id": "20f2db54",
   "metadata": {},
   "source": [
    "- Me dispongo a analizar si son muchos a fin de limpiarlos."
   ]
  },
  {
   "cell_type": "code",
   "execution_count": 657,
   "id": "9f026f4e",
   "metadata": {},
   "outputs": [
    {
     "data": {
      "text/html": [
       "<div>\n",
       "<style scoped>\n",
       "    .dataframe tbody tr th:only-of-type {\n",
       "        vertical-align: middle;\n",
       "    }\n",
       "\n",
       "    .dataframe tbody tr th {\n",
       "        vertical-align: top;\n",
       "    }\n",
       "\n",
       "    .dataframe thead th {\n",
       "        text-align: right;\n",
       "    }\n",
       "</style>\n",
       "<table border=\"1\" class=\"dataframe\">\n",
       "  <thead>\n",
       "    <tr style=\"text-align: right;\">\n",
       "      <th></th>\n",
       "      <th>año</th>\n",
       "      <th>peli</th>\n",
       "      <th>genero</th>\n",
       "    </tr>\n",
       "  </thead>\n",
       "  <tbody>\n",
       "    <tr>\n",
       "      <th>2622</th>\n",
       "      <td>1900</td>\n",
       "      <td>Legend of 1900, The (Leggenda del pianista sull'oceano)</td>\n",
       "      <td>Drama</td>\n",
       "    </tr>\n",
       "    <tr>\n",
       "      <th>2754</th>\n",
       "      <td>1919</td>\n",
       "      <td>Spiders, The (Die Spinnen, 1. Teil: Der Goldene See)</td>\n",
       "      <td>Action</td>\n",
       "    </tr>\n",
       "    <tr>\n",
       "      <th>3240</th>\n",
       "      <td>1920</td>\n",
       "      <td>Dog's Life, A</td>\n",
       "      <td>Comedy</td>\n",
       "    </tr>\n",
       "    <tr>\n",
       "      <th>3162</th>\n",
       "      <td>1920</td>\n",
       "      <td>Saphead, The</td>\n",
       "      <td>Comedy</td>\n",
       "    </tr>\n",
       "    <tr>\n",
       "      <th>3241</th>\n",
       "      <td>1921</td>\n",
       "      <td>Kid, The</td>\n",
       "      <td>Action</td>\n",
       "    </tr>\n",
       "    <tr>\n",
       "      <th>...</th>\n",
       "      <td>...</td>\n",
       "      <td>...</td>\n",
       "      <td>...</td>\n",
       "    </tr>\n",
       "    <tr>\n",
       "      <th>3650</th>\n",
       "      <td>2000</td>\n",
       "      <td>Love's Labour's Lost</td>\n",
       "      <td>Comedy</td>\n",
       "    </tr>\n",
       "    <tr>\n",
       "      <th>3882</th>\n",
       "      <td>2000</td>\n",
       "      <td>Contender, The</td>\n",
       "      <td>Drama</td>\n",
       "    </tr>\n",
       "    <tr>\n",
       "      <th>912</th>\n",
       "      <td>2001</td>\n",
       "      <td>2001: A Space Odyssey</td>\n",
       "      <td>Drama</td>\n",
       "    </tr>\n",
       "    <tr>\n",
       "      <th>665</th>\n",
       "      <td>sin año</td>\n",
       "      <td>Mystery Science Theater 3000: The Movie</td>\n",
       "      <td>Comedy</td>\n",
       "    </tr>\n",
       "    <tr>\n",
       "      <th>3775</th>\n",
       "      <td>sin año</td>\n",
       "      <td>And God Created Woman (Et Dieu&amp;#8230;Créa la Femme)</td>\n",
       "      <td>Drama</td>\n",
       "    </tr>\n",
       "  </tbody>\n",
       "</table>\n",
       "<p>1611 rows × 3 columns</p>\n",
       "</div>"
      ],
      "text/plain": [
       "          año                                                      peli  \\\n",
       "2622     1900  Legend of 1900, The (Leggenda del pianista sull'oceano)    \n",
       "2754     1919     Spiders, The (Die Spinnen, 1. Teil: Der Goldene See)    \n",
       "3240     1920                                            Dog's Life, A    \n",
       "3162     1920                                             Saphead, The    \n",
       "3241     1921                                                 Kid, The    \n",
       "...       ...                                                       ...   \n",
       "3650     2000                                     Love's Labour's Lost    \n",
       "3882     2000                                           Contender, The    \n",
       "912      2001                                    2001: A Space Odyssey    \n",
       "665   sin año                  Mystery Science Theater 3000: The Movie    \n",
       "3775  sin año      And God Created Woman (Et Dieu&#8230;Créa la Femme)    \n",
       "\n",
       "      genero  \n",
       "2622   Drama  \n",
       "2754  Action  \n",
       "3240  Comedy  \n",
       "3162  Comedy  \n",
       "3241  Action  \n",
       "...      ...  \n",
       "3650  Comedy  \n",
       "3882   Drama  \n",
       "912    Drama  \n",
       "665   Comedy  \n",
       "3775   Drama  \n",
       "\n",
       "[1611 rows x 3 columns]"
      ]
     },
     "execution_count": 657,
     "metadata": {},
     "output_type": "execute_result"
    }
   ],
   "source": [
    "caracteres_especiales = DF_DEF[DF_DEF['peli'].str.contains(r'[^\\w\\s]', regex=True)]\n",
    "# busca cualquier carácter que no sea una letra, un dígito o un espacio en blanco.\n",
    "# Esto incluirá caracteres especiales como signos de puntuación, símbolos, etc.\n",
    "caracteres_especiales"
   ]
  },
  {
   "cell_type": "markdown",
   "id": "c93dd931",
   "metadata": {},
   "source": [
    "Estamos hablando de 1611 filas donde se usan caracteres especiales, con lo cual, se van a quedar así. \n",
    "- Me da la sensación que el archivo no está limpio, pero supongo que lo importante es poder sacar estadísticas, y puesto que es la fila que cambia siempre, no vale la pena porque no se va a agrupar."
   ]
  },
  {
   "cell_type": "markdown",
   "id": "d44a713f",
   "metadata": {},
   "source": [
    "### EXERCICI 3 .- \n",
    "\n",
    "Mostra la teva creativitat. Què creus rellevant mostrar del Dataset \"movies.dat\" de l'exercici anterior?\n",
    "\n",
    "Fes una o dues representacions gràfiques i justifica la teva elecció."
   ]
  },
  {
   "cell_type": "markdown",
   "id": "6ac7338f",
   "metadata": {},
   "source": [
    "- Em plantejo una gràfica per saber % de cada categoria segons any"
   ]
  },
  {
   "cell_type": "code",
   "execution_count": 658,
   "id": "a38f49e2",
   "metadata": {},
   "outputs": [
    {
     "data": {
      "text/plain": [
       "Drama          1176\n",
       "Comedy         1024\n",
       "Action          503\n",
       "Horror          262\n",
       "Adventure       155\n",
       "Crime           131\n",
       "Documentary     123\n",
       "Thriller        101\n",
       "Animation        90\n",
       "Children's       89\n",
       "Romance          50\n",
       "Sci-Fi           46\n",
       "Mystery          36\n",
       "Western          33\n",
       "Musical          25\n",
       "Film-Noir        25\n",
       "War              12\n",
       "Fantasy           2\n",
       "Name: genero, dtype: int64"
      ]
     },
     "execution_count": 658,
     "metadata": {},
     "output_type": "execute_result"
    }
   ],
   "source": [
    "# creo DF per obtenir el total de valors de genere\n",
    "\n",
    "genero_conta = DF_DEF['genero'].value_counts()\n",
    "genero_conta.sort_values(ascending=False)\n",
    "genero_conta"
   ]
  },
  {
   "cell_type": "code",
   "execution_count": 659,
   "id": "cb3d3854",
   "metadata": {},
   "outputs": [
    {
     "data": {
      "text/plain": [
       "Fantasy           2\n",
       "War              12\n",
       "Film-Noir        25\n",
       "Musical          25\n",
       "Western          33\n",
       "Mystery          36\n",
       "Sci-Fi           46\n",
       "Romance          50\n",
       "Children's       89\n",
       "Animation        90\n",
       "Thriller        101\n",
       "Documentary     123\n",
       "Crime           131\n",
       "Adventure       155\n",
       "Horror          262\n",
       "Action          503\n",
       "Comedy         1024\n",
       "Drama          1176\n",
       "Name: genero, dtype: int64"
      ]
     },
     "execution_count": 659,
     "metadata": {},
     "output_type": "execute_result"
    }
   ],
   "source": [
    "genero_conta.sort_values()"
   ]
  },
  {
   "cell_type": "code",
   "execution_count": 661,
   "id": "e772c7c2",
   "metadata": {},
   "outputs": [
    {
     "data": {
      "text/plain": [
       "Text(0, 0.5, 'Género')"
      ]
     },
     "execution_count": 661,
     "metadata": {},
     "output_type": "execute_result"
    },
    {
     "data": {
      "image/png": "[encoded data removed]",
      "text/plain": [
       "<Figure size 600x600 with 1 Axes>"
      ]
     },
     "metadata": {},
     "output_type": "display_data"
    }
   ],
   "source": [
    "plt.figure(figsize=(6, 6))\n",
    "sns.barplot(y=genero_conta.index, x=genero_conta.values, palette=\"Greens\",order=genero_conta.sort_values(ascending=True).index)\n",
    "plt.xticks(rotation=90, ha='right')\n",
    "plt.title('Cantidad de películas por género')\n",
    "plt.xlabel('Unidades')\n",
    "plt.ylabel('Género')"
   ]
  },
  {
   "cell_type": "markdown",
   "id": "fb11b9a9",
   "metadata": {},
   "source": [
    "- En esta gráfica aparecen los títulos con más ítems, siendo Drama, comedia las que destacan en cuanto a cantidad de datos.\n",
    "\n",
    "- También hay muchas películas de acción. Y me sorprende Horror, que siendo un género bastante singular, tiene muchas entradas. Pero tiene lógica, puesto que solo hemos seleccionado la primera clasificación de género. Y cuando un libro es de Horror, supongo que lo pones en la primera categoría."
   ]
  },
  {
   "cell_type": "markdown",
   "id": "0d77deb9",
   "metadata": {},
   "source": [
    "Me dispongo a hacer una gráfica donde se pueda observar la cantidad de pelis por género y año. \n",
    "- Como tengo 4 datos en las casillas (1398, 665, 3775, 2239) de años, con el resultado  \"sin año\". Las eliminaré temporalmente para poder sacar la gráfica."
   ]
  },
  {
   "cell_type": "markdown",
   "id": "e2e3ecb9",
   "metadata": {},
   "source": [
    "Creo copia del DF y creo uno nuevo que no contendrá las 4 filas sin años."
   ]
  },
  {
   "cell_type": "code",
   "execution_count": 662,
   "id": "0a0f41bc",
   "metadata": {},
   "outputs": [],
   "source": [
    "DF_falta4 = DF_DEF.copy()"
   ]
  },
  {
   "cell_type": "code",
   "execution_count": 663,
   "id": "055a5f4b",
   "metadata": {},
   "outputs": [],
   "source": [
    "años_eliminar = [1398, 665, 3775, 2239]"
   ]
  },
  {
   "cell_type": "code",
   "execution_count": 664,
   "id": "cb6c2e5c",
   "metadata": {},
   "outputs": [],
   "source": [
    "DF_falta4.drop([1398, 665, 3775, 2239], inplace=True)"
   ]
  },
  {
   "cell_type": "code",
   "execution_count": 665,
   "id": "7078070d",
   "metadata": {},
   "outputs": [
    {
     "data": {
      "text/plain": [
       "3883"
      ]
     },
     "execution_count": 665,
     "metadata": {},
     "output_type": "execute_result"
    }
   ],
   "source": [
    "len(DF_DEF)\n"
   ]
  },
  {
   "cell_type": "code",
   "execution_count": 666,
   "id": "c3aac9b1",
   "metadata": {},
   "outputs": [
    {
     "data": {
      "text/plain": [
       "3879"
      ]
     },
     "execution_count": 666,
     "metadata": {},
     "output_type": "execute_result"
    }
   ],
   "source": [
    "len(DF_falta4)"
   ]
  },
  {
   "cell_type": "code",
   "execution_count": 667,
   "id": "738e1277",
   "metadata": {},
   "outputs": [
    {
     "data": {
      "image/png": "[encoded data removed]",
      "text/plain": [
       "<Figure size 1000x600 with 1 Axes>"
      ]
     },
     "metadata": {},
     "output_type": "display_data"
    },
    {
     "data": {
      "text/plain": [
       "<Figure size 640x480 with 0 Axes>"
      ]
     },
     "metadata": {},
     "output_type": "display_data"
    }
   ],
   "source": [
    "sns.set(style=\"whitegrid\") # Estil de la gràfica amb fons blanc\n",
    "plt.figure(figsize=(10, 6)) # mides de la gràfica \n",
    "sns.boxplot(x=\"genero\", y=\"año\", data=DF_falta4) # valors. Estil seria amb palette=\n",
    "plt.title('Boxplot de películas por género y año') # nom de la gràfica\n",
    "plt.xlabel('Categorias por géneros')\n",
    "plt.ylabel('Años')\n",
    "plt.xticks(rotation=90) # roto etiquetes per guanyar espai.\n",
    "\n",
    "plt.show()\n",
    "plt.savefig('Boxplot_genere_anys')"
   ]
  },
  {
   "cell_type": "markdown",
   "id": "97ca378b",
   "metadata": {},
   "source": [
    "- Esta gráfica no me sirve, porque no me muestra la densidad, y aunque las cajas me explican entre qué años encontramos cada género, podría entender por ejemplo, que hay muchos más valores de western o guerra, de los que en verdad hay."
   ]
  },
  {
   "cell_type": "code",
   "execution_count": 674,
   "id": "7e0a05b2",
   "metadata": {},
   "outputs": [
    {
     "data": {
      "image/png": "[encoded data removed]",
      "text/plain": [
       "<Figure size 1200x1000 with 1 Axes>"
      ]
     },
     "metadata": {},
     "output_type": "display_data"
    },
    {
     "data": {
      "text/plain": [
       "<Figure size 640x480 with 0 Axes>"
      ]
     },
     "metadata": {},
     "output_type": "display_data"
    }
   ],
   "source": [
    "plt.figure(figsize=(12, 10))\n",
    "sns.stripplot(x='genero', y='año', data=DF_falta4, jitter=True,palette=\"Set1\", alpha=0.4) # jitter=True agrega un pequeño desplazamiento aleatorio a los puntos de datos en el eje X, evita que los puntos se superpongan directamente en los mismos valores de X.\n",
    "sns.set(style=\"whitegrid\")\n",
    "plt.xticks(rotation=90, ha='right')\n",
    "plt.title('Boxplot Pelis por género y año')\n",
    "plt.xlabel ('Categorías por primer género') \n",
    "plt.ylabel ('Años') \n",
    "plt.show()\n",
    "plt.savefig('Stripplot_genere_anys')"
   ]
  },
  {
   "cell_type": "markdown",
   "id": "e67a1fd6",
   "metadata": {},
   "source": [
    "- Observamos una gráfica de distribución con la repartición de los ítems muy exageradamente hacia la parte superior, donde los valores recaen en los años más actuales. A excepción de la novela negra, donde se concentra entre los años 40 y 60.\n",
    "- Me sorprende la poca cantidad de ítems de Fantasía. Aunque, supongo que como subgénero, habría más. "
   ]
  },
  {
   "cell_type": "code",
   "execution_count": 672,
   "id": "1ae07627",
   "metadata": {},
   "outputs": [
    {
     "name": "stdout",
     "output_type": "stream",
     "text": [
      "Total de ítems con 'Fantasy' en la columna 'subgenero': 66\n"
     ]
    }
   ],
   "source": [
    "subgenero_fantasia = df2['subgenero'].str.contains('Fantasy')\n",
    "cantidad_fantasia_subgenero = subgenero_fantasia.sum()\n",
    "print(f\"Total de ítems con 'Fantasy' en la columna 'subgenero': {cantidad_fantasia_subgenero}\")"
   ]
  },
  {
   "cell_type": "code",
   "execution_count": 673,
   "id": "6ed3c06a",
   "metadata": {},
   "outputs": [
    {
     "name": "stdout",
     "output_type": "stream",
     "text": [
      "Total de ítems con 'Fantasy' en la columna 'subgenero': 2\n"
     ]
    }
   ],
   "source": [
    "genero_fantasia = df2['genero'].str.contains('Fantasy')\n",
    "cantidad_fantasia_genero = genero_fantasia.sum()\n",
    "print(f\"Total de ítems con 'Fantasy' en la columna 'subgenero': {cantidad_fantasia_genero}\")"
   ]
  },
  {
   "cell_type": "markdown",
   "id": "d2c4d100",
   "metadata": {},
   "source": [
    "Aquí podemos comprobar que en realidad se trata de una desviación, al haber subdividido la casilla género. Básicamente, viendo las primeras filas ante de dividir el género, observamos que los nombres aparecían por orden alfabético, así que como Fantasía empieza por F, ha quedado en muchos casos, en la columna de subgénero y no en la de género."
   ]
  },
  {
   "cell_type": "markdown",
   "id": "4e4364b1",
   "metadata": {},
   "source": [
    "- Con esto, y si no fuera porque el ejercicio me pide de forma expresa de quedarme con una sola columna, sigo pensando que mi idea de guardar la casilla subgenero era buena.\n"
   ]
  }
 ],
 "metadata": {
  "kernelspec": {
   "display_name": "Python 3 (ipykernel)",
   "language": "python",
   "name": "python3"
  },
  "language_info": {
   "codemirror_mode": {
    "name": "ipython",
    "version": 3
   },
   "file_extension": ".py",
   "mimetype": "text/x-python",
   "name": "python",
   "nbconvert_exporter": "python",
   "pygments_lexer": "ipython3",
   "version": "3.10.9"
  }
 },
 "nbformat": 4,
 "nbformat_minor": 5
}
